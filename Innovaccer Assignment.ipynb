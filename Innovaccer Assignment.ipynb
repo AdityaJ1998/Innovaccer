{
 "cells": [
  {
   "cell_type": "code",
   "execution_count": 34,
   "metadata": {
    "scrolled": false
   },
   "outputs": [
    {
     "name": "stdout",
     "output_type": "stream",
     "text": [
      "Email address:jhaaditya1998@gmail.com\n",
      "TV Series:suits,friends,big bang theory\n",
      "The next episode airs on 2018-11-10.\n"
     ]
    },
    {
     "data": {
      "text/plain": [
       "(221, b'2.0.0 closing connection 72-v6sm55827273pfr.115 - gsmtp')"
      ]
     },
     "execution_count": 34,
     "metadata": {},
     "output_type": "execute_result"
    }
   ],
   "source": [
    "import requests,bs4,re,datetime,smtplib,re\n",
    "from dateutil.parser import parse\n",
    "\n",
    "recEmail = input(\"Email address:\").strip()\n",
    "nameStr = input(\"TV Series:\").strip()\n",
    "nameArr = nameStr.split(\",\")                  #Array of name of TV Series\n",
    "\n",
    "#    import mysql.connector\n",
    "#    mydb = mysql.connector.connect( \n",
    "#      host=\"localhost\",\n",
    "#      user=\"yourusername\",\n",
    "#      passwd=\"yourpassword\",\n",
    "#      database=\"mydatabase\"\n",
    "#   )  \n",
    "#   use this to enter the data into a mySQL database with appropriate userID,Password\n",
    "\n",
    "#   mycursor = mydb.cursor()\n",
    "\n",
    "#   sql = \"INSERT INTO customers (name) VALUES (%s)\"\n",
    "#   mycursor.execute(sql, nameArr)\n",
    "\n",
    "#   mydb.commit()\n",
    "\n",
    "\n",
    "s = smtplib.SMTP('smtp.gmail.com', 587) \n",
    "s.starttls() \n",
    "s.login(\"sendersmailid@gmail.com\",\"@12345abcd\")   #Senders mail ID # created a new email-ID with the same name.The code will run with this email-ID.\n",
    "messageArr = []\n",
    "message = \"\"\n",
    "\n",
    "for name in nameArr:\n",
    "    try:\n",
    "        text = name\n",
    "        text = name.replace (\" \", \"+\")\n",
    "        link = \"https://next-episode.net/site-search-\"+ text + \".html\"\n",
    "        res = requests.get(link);\n",
    "        soup = bs4.BeautifulSoup(res.text,'html.parser')\n",
    "        div = soup.find(\"div\", {\"class\": \"list_item\"})\n",
    "        \n",
    "        if div is not None:\n",
    "            span = div.find(\"span\",{\"class\": \"headlinehref\"})\n",
    "            atag = span.find(\"a\")\n",
    "            hreflink = \"https://next-episode.net\"+atag['href']\n",
    "            res = requests.get(hreflink);\n",
    "            soup = bs4.BeautifulSoup(res.text,'html.parser')\n",
    "        string1 = str(soup)\n",
    "        \n",
    "        if \"Canceled/Ended\" in string1 :                                    #case where all TV Series has ended.\n",
    "            message = \"The show has finished streaming all its episodes.\"\n",
    "        elif \"Running\" in string1 or \"Upcoming Season Premiere\" in string1:   \n",
    "            nextEpisodeDiv = soup.find(\"div\", {\"id\": \"next_episode\"})\n",
    "            nextStr = str(nextEpisodeDiv)\n",
    "            date = nextStr[nextStr.find(\"Date\")+16:nextStr.find(\"Date\")+34].strip()\n",
    "            dt = parse(date)\n",
    "            message = \"The next episode airs on \" + dt.strftime('%Y-%d-%m') + \".\"\n",
    "        else:\n",
    "            googlelink = \"https://www.google.com/search?q=imdb url \"+name\n",
    "            res = requests.get(googlelink);\n",
    "            soup = bs4.BeautifulSoup(res.text,'html.parser')\n",
    "            div = soup.find(\"div\", {\"class\": \"hJND5c\"})\n",
    "            cite = div.find(\"cite\")\n",
    "            unknown = \"episodes\"\n",
    "            link = \"https://www.imdb\"+cite.contents[2];\n",
    "            res = requests.get(link)\n",
    "            soup = bs4.BeautifulSoup(res.text,'html.parser')\n",
    "            div = soup.find(\"div\", {\"class\": \"seasons-and-year-nav\"})\n",
    "            divStr = str(div)\n",
    "            cc = cite.contents[2][4:]+\"episodes?year=\"\n",
    "            yearV = divStr[divStr.find(cc)+31:divStr.find(cc)+35]\n",
    "            year = int(yearV)\n",
    "            currentyear = datetime.datetime.now().year\n",
    "            if year <= currentyear:\n",
    "                message = \"No information is currently available.\"\n",
    "            else:\n",
    "                message = \"The next Season begins in \" +yearV + \".\"\n",
    "        messageArr.append(message) \n",
    "    except:\n",
    "        print(\"There was some error. Check name or internet connection\")\n",
    "        message = \"There was some error :(\"\n",
    "        messageArr.append(message)\n",
    "message=\"\\n\"\n",
    "for series,status in zip(nameArr,messageArr):\n",
    "    message = message + \"Tv series name: \"+series+\"\\n\"\n",
    "    message = message + \"Status: \"+status+\"\\n\\n\"\n",
    "s.sendmail(\"sendersmailid@gmail.com\", recEmail, message)\n",
    "s.quit()"
   ]
  }
 ],
 "metadata": {
  "kernelspec": {
   "display_name": "Python 3",
   "language": "python",
   "name": "python3"
  },
  "language_info": {
   "codemirror_mode": {
    "name": "ipython",
    "version": 3
   },
   "file_extension": ".py",
   "mimetype": "text/x-python",
   "name": "python",
   "nbconvert_exporter": "python",
   "pygments_lexer": "ipython3",
   "version": "3.6.5"
  }
 },
 "nbformat": 4,
 "nbformat_minor": 2
}
